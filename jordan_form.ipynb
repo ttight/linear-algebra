{
  "cells": [
    {
      "attachments": {},
      "cell_type": "markdown",
      "metadata": {},
      "source": [
        "Below is a function that has an input of a 2x2 matrix, and an output of the transition matrix P and the Jordan form J.\n",
        "\n",
        "This is done without using preexisting Jordan Form libraries to show the python code directly."
      ]
    },
    {
      "cell_type": "code",
      "execution_count": 3,
      "metadata": {
        "id": "QMleG7HfhdCk"
      },
      "outputs": [],
      "source": [
        "\n",
        "import scipy as sc\n",
        "from itertools import chain\n",
        "import sympy as sp\n",
        "import numpy as np\n",
        "\n",
        "def jordan(matrix):\n",
        "    m = sp.Matrix(matrix)\n",
        "    diag = m.is_diagonalizable()\n",
        "    if(diag):\n",
        "      eigs = sorted(m.eigenvects(), key=lambda x:x[0])\n",
        "      eigs.reverse()\n",
        "      P=[]\n",
        "      P.append(list(chain.from_iterable(eigs[0][2])))\n",
        "      P.append(list(chain.from_iterable(eigs[1][2])))\n",
        "      P = [[P[0][0], P[1][0]],[P[0][1], P[1][1]]]\n",
        "      #for tup in eigs:\n",
        "      #  for v in tup[2]:\n",
        "      #    P.append(list(v))\n",
        "      J = [[0, 0], [0, 0]]\n",
        "      eigvs = m.eigenvals()\n",
        "      \n",
        "      J[0][0] = list(eigvs.items())[0][0]\n",
        "      J[1][1] = list(eigvs.items())[1][0]\n",
        "          \n",
        "    else:\n",
        "      P=[]\n",
        "      eigvs = m.eigenvals()\n",
        "      J = [[list(eigvs.items())[0][0],1],[0,list(eigvs.items())[0][0]]]\n",
        "      \n",
        "      eigs = m.eigenvects()\n",
        "\n",
        "\n",
        "      n = list(eigvs.items())[0][0] * sp.Matrix(np.eye(2))\n",
        "      x = (m - n) ** 2\n",
        "\n",
        "      nullspace = sc.linalg.null_space(np.array(x).astype(int))\n",
        "      \n",
        "      P=[]\n",
        "      for tup in eigs:\n",
        "        for v in tup[2]:\n",
        "          P.append(list(v))\n",
        "      n = list(eigvs.items())[0][0] * sp.Matrix(np.eye(2))\n",
        "      m = (m - n) ** 2\n",
        "      eigs = m.eigenvects()\n",
        "      found = 0\n",
        "      \n",
        "      for tup in eigs:\n",
        "        for v in tup[2]:\n",
        "          if found:\n",
        "            break\n",
        "          if (list(v) not in nullspace):\n",
        "            P.append(list(v))\n",
        "            found = 1\n",
        "      if found != 1:\n",
        "\n",
        "        for tup in eigs:\n",
        "          for v in tup[2]:\n",
        "            x = list(v)\n",
        "            P = [[P[0][0], x[0]], [P[0][1], x[1]]]\n",
        "            P = np.array(P).astype(int)\n",
        "            if not np.array_equal(np.matmul(np.matmul(P, J), np.linalg.inv(P)).astype(int), np.array(matrix).astype(int)):\n",
        "              x[0] = x[0] * -1 \n",
        "              P = [[P[0][0], x[0]], [P[0][1], x[1]]]\n",
        "\n",
        "            break\n",
        "    \n",
        "    P = np.array(P).astype(int)\n",
        "    J = np.array(J).astype(int) \n",
        "\n",
        "    return P, J\n"
      ]
    },
    {
      "attachments": {},
      "cell_type": "markdown",
      "metadata": {},
      "source": [
        "Testing the function below. "
      ]
    },
    {
      "cell_type": "code",
      "execution_count": null,
      "metadata": {
        "colab": {
          "base_uri": "https://localhost:8080/"
        },
        "id": "Z_feeHiRZl0A",
        "outputId": "aba93a25-cd3a-4fb2-ea0b-cc9ba456ee62"
      },
      "outputs": [
        {
          "data": {
            "text/plain": [
              "(array([[ 1, -1],\n",
              "        [ 1,  1]]),\n",
              " array([[2, 0],\n",
              "        [0, 0]]))"
            ]
          },
          "execution_count": 6,
          "metadata": {},
          "output_type": "execute_result"
        }
      ],
      "source": [
        "A = [[1, 1], [1, 1]]\n",
        "jordan(A)"
      ]
    },
    {
      "cell_type": "code",
      "execution_count": null,
      "metadata": {
        "colab": {
          "base_uri": "https://localhost:8080/"
        },
        "id": "WXtOI31XZ0xw",
        "outputId": "29e37dcf-3362-4907-a3e5-d230b0356061"
      },
      "outputs": [
        {
          "data": {
            "text/plain": [
              "(array([[-1, -1],\n",
              "        [ 1,  0]]),\n",
              " array([[0, 1],\n",
              "        [0, 0]]))"
            ]
          },
          "execution_count": 7,
          "metadata": {},
          "output_type": "execute_result"
        }
      ],
      "source": [
        "A = [[1, 1], [-1, -1]]\n",
        "jordan(A)"
      ]
    },
    {
      "cell_type": "code",
      "execution_count": null,
      "metadata": {
        "colab": {
          "base_uri": "https://localhost:8080/"
        },
        "id": "eUb9bq70Z5TJ",
        "outputId": "63be7867-70f5-4357-a166-33a7cb74ec61"
      },
      "outputs": [
        {
          "data": {
            "text/plain": [
              "(array([[-1, -1],\n",
              "        [ 1,  0]]),\n",
              " array([[3, 1],\n",
              "        [0, 3]]))"
            ]
          },
          "execution_count": 9,
          "metadata": {},
          "output_type": "execute_result"
        }
      ],
      "source": [
        "A  = [[4, 1], [-1, 2]]\n",
        "jordan(A)"
      ]
    }
  ],
  "metadata": {
    "colab": {
      "provenance": []
    },
    "kernelspec": {
      "display_name": "Python 3",
      "name": "python3"
    },
    "language_info": {
      "codemirror_mode": {
        "name": "ipython",
        "version": 3
      },
      "file_extension": ".py",
      "mimetype": "text/x-python",
      "name": "python",
      "nbconvert_exporter": "python",
      "pygments_lexer": "ipython3",
      "version": "3.9.10"
    }
  },
  "nbformat": 4,
  "nbformat_minor": 0
}
