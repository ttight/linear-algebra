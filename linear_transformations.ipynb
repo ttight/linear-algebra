{
 "cells": [
  {
   "cell_type": "code",
   "execution_count": null,
   "metadata": {},
   "outputs": [],
   "source": [
    "import numpy as np\n",
    "import matplotlib.pyplot as plt\n",
    "\n",
    "def ellipse(x, y):\n",
    "    return 3*x**2 - 2*x*y + 3*y**2 - 4\n",
    "\n",
    "\n",
    "x = np.linspace(-3, 3, 400)\n",
    "y = np.linspace(-3, 3, 400)\n",
    "x_grid, y_grid = np.meshgrid(x, y)\n",
    "z_grid = ellipse(x_grid, y_grid)\n",
    "\n",
    "plt.contour(x_grid, y_grid, z_grid, levels=[0], colors='blue')\n",
    "plt.show()"
   ]
  },
  {
   "cell_type": "code",
   "execution_count": null,
   "metadata": {},
   "outputs": [],
   "source": [
    "import numpy as np\n",
    "import matplotlib.pyplot as plt\n",
    "\n",
    "\n",
    "def ellipse(u, v, t):\n",
    "    x = u * np.cos(t) - v * np.sin(t)\n",
    "    y = u * np.sin(t) + v * np.cos(t)\n",
    "    return 3*x**2 - 2*x*y + 3*y**2 - 4\n",
    "\n",
    "\n",
    "def plotRotation(t):\n",
    "   \n",
    "\n",
    "  u = np.linspace(-4, 4, 200)\n",
    "  v = np.linspace(-4, 4, 200)\n",
    "\n",
    "  u_grid, v_grid = np.meshgrid(u, v)\n",
    "  z_grid = ellipse(u_grid, v_grid, t)\n",
    "\n",
    "  plt.contour(u_grid, v_grid, z_grid, levels=[0], colors='blue')\n",
    "  plt.show()"
   ]
  },
  {
   "attachments": {},
   "cell_type": "markdown",
   "metadata": {},
   "source": [
    "In the above function we use the ellipse function to find the rotated x and y values then use the ellipse equation to find the rest."
   ]
  },
  {
   "cell_type": "code",
   "execution_count": null,
   "metadata": {},
   "outputs": [],
   "source": [
    "x = np.pi/12\n",
    "plotRotation(x)\n",
    "x = np.pi/6\n",
    "plotRotation(x)\n",
    "x = np.pi/4\n",
    "plotRotation(x)\n",
    "x = np.pi/3\n",
    "plotRotation(x)\n",
    "x = (5 * np.pi)/12\n",
    "plotRotation(x)\n",
    "x = np.pi/2\n",
    "plotRotation(x)"
   ]
  },
  {
   "attachments": {},
   "cell_type": "markdown",
   "metadata": {},
   "source": [
    "The angle pi/4 produces the rotated elipse with the axes being the x and the y axis. We cand find the equation of the ellipse by simply substituting x = u cos(π/4) - v sin(π/4) and y = u sin(π/4) + v cos(π/4) into the equation of the elipse, which is 3x^2 - 2xy + 3y^2 = 4. This gives us 2u^2 + 5v^2 = 4  which gives us u^2/2 + v^2/(4/5) = 1. Which is the equation of an ellipse with axes being the x and y axis. \n",
    "\n",
    "In order to find the correct angle to rotate an ellipse to standard form: First we'd find the center of the elipse and translate the ellipse so it is centered at the origin, which can be done rather trivialy. Then we'd have to diagonalize the matrix [[a,b],[b,c]] where a, b, and c are the terms associated with the equation of the elipse. Where a and c are the coefficients of the squared terms. This means we are finding a matrix P = [cos(t) -sin(t); sin(t) cos(t)] such that P^T M P is a diagonal matrix. Then, the angle t that solves tan(2t) = 2b / (a - c). Would give us a soluton.  "
   ]
  }
 ],
 "metadata": {
  "language_info": {
   "name": "python"
  },
  "orig_nbformat": 4
 },
 "nbformat": 4,
 "nbformat_minor": 2
}
